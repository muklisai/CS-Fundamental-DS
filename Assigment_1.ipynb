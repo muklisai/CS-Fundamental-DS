{
  "nbformat": 4,
  "nbformat_minor": 0,
  "metadata": {
    "colab": {
      "provenance": []
    },
    "kernelspec": {
      "name": "python3",
      "display_name": "Python 3"
    },
    "language_info": {
      "name": "python"
    }
  },
  "cells": [
    {
      "cell_type": "markdown",
      "source": [
        "## Case 2\n",
        "Andi ingin membeli sebuah Laptop seharga Rp  5  juta. Namun, uang yang dia miliki hanya Rp  3  juta. Dia teringat bahwa  7  tahun lalu dia pernah menabung di Bank A dan Bank B dengan saldo yang sama yaitu Rp  1  juta dan suku bunga yang sama yaitu  6%  per tahun. Bank A memberikan suku bunga tunggal dan Bank B memberikan suku bunga majemuk. Jika selama  7  tahun itu Andi tidak pernah melakukan penarikan maupun pemasukan, Berapakah total uang Andi sekarang ? Apakah uang Andi sudah cukup untuk membeli Laptop ?"
      ],
      "metadata": {
        "id": "6JLz-5RheBoW"
      }
    },
    {
      "cell_type": "code",
      "source": [
        "# Define variables\n",
        "laptop = 5000_000\n",
        "uang_sekarang = 3000_000\n",
        "tahun = 7\n",
        "tabungan = 1000_000\n",
        "suku_bunga = 0.06"
      ],
      "metadata": {
        "id": "mcNBrQ9GeEMr"
      },
      "execution_count": 1,
      "outputs": []
    },
    {
      "cell_type": "code",
      "source": [
        "# Menghitung Saldo Bank A (Suku Bunga Tunggal)\n",
        "tabungan_tunggal = tabungan + (tabungan*suku_bunga*tahun)\n",
        "\n",
        "print(f'Total tabungan Andi sekarang di Bank A menjadi {tabungan_tunggal}')"
      ],
      "metadata": {
        "colab": {
          "base_uri": "https://localhost:8080/"
        },
        "id": "sTmE-uJSeLR2",
        "outputId": "4612dcfb-0c55-43df-fb18-231878894f74"
      },
      "execution_count": 2,
      "outputs": [
        {
          "output_type": "stream",
          "name": "stdout",
          "text": [
            "Total tabungan Andi sekarang di Bank A menjadi 1420000.0\n"
          ]
        }
      ]
    },
    {
      "cell_type": "code",
      "source": [
        "# Menghitung Saldo Bank B (Suku Bunga Majemuk)\n",
        "tabungan_majemuk = tabungan * (1 + suku_bunga)**tahun\n",
        "print(f'Total tabungan Andi sekarang di Bank B menjadi {tabungan_majemuk}')"
      ],
      "metadata": {
        "colab": {
          "base_uri": "https://localhost:8080/"
        },
        "id": "Bptu_RoVeRQv",
        "outputId": "8c8c5740-fb7c-4d55-97ab-ea0c1f5561b5"
      },
      "execution_count": 3,
      "outputs": [
        {
          "output_type": "stream",
          "name": "stdout",
          "text": [
            "Total tabungan Andi sekarang di Bank B menjadi 1503630.2589913607\n"
          ]
        }
      ]
    },
    {
      "cell_type": "code",
      "source": [
        "# Menghitung Total Uang Andi dari Bank A dan Bank B\n",
        "total_uang = uang_sekarang + tabungan_tunggal + tabungan_majemuk\n",
        "\n",
        "print(f'Total uang Andi sekarang menjadi {total_uang}')"
      ],
      "metadata": {
        "colab": {
          "base_uri": "https://localhost:8080/"
        },
        "id": "_3RP8g58eTtM",
        "outputId": "972c05b9-9424-4dfe-ad0c-0ac7f145b529"
      },
      "execution_count": 4,
      "outputs": [
        {
          "output_type": "stream",
          "name": "stdout",
          "text": [
            "Total uang Andi sekarang menjadi 5923630.258991361\n"
          ]
        }
      ]
    },
    {
      "cell_type": "code",
      "source": [
        "# Menghitung Apakah uang Andi sudah cukup untuk membeli Laptop\n",
        "if total_uang < laptop :\n",
        "  print ('Uang Andi tidak cukup')\n",
        "if total_uang >= laptop:\n",
        "  print ('Uang Andi cukup')\n",
        "\n",
        "\n",
        "sisa_uang_Andi =  total_uang - laptop\n",
        "print(\"Sisa Uang Andi saat beli Laptop = Rp \", sisa_uang_Andi)"
      ],
      "metadata": {
        "colab": {
          "base_uri": "https://localhost:8080/"
        },
        "id": "inYQtNo_eWyZ",
        "outputId": "c052a5f2-30b4-41b9-fc18-88a6913d3223"
      },
      "execution_count": 5,
      "outputs": [
        {
          "output_type": "stream",
          "name": "stdout",
          "text": [
            "Uang Andi cukup\n",
            "Sisa Uang Andi saat beli Laptop = Rp  923630.2589913607\n"
          ]
        }
      ]
    }
  ]
}