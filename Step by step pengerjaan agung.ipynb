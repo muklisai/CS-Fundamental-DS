{
 "cells": [
  {
   "cell_type": "markdown",
   "metadata": {},
   "source": [
    "# Clone repository yang telah disiapkan oleh Tim Narasio.\n",
    "github clone HTTPS : https://github.com/muklisai/CS-Fundamental-DS.git\n"
   ]
  },
  {
   "cell_type": "code",
   "execution_count": null,
   "metadata": {},
   "outputs": [],
   "source": [
    "git clone https://github.com/muklisai/CS-Fundamental-DS.git"
   ]
  },
  {
   "cell_type": "markdown",
   "metadata": {},
   "source": [
    "# Buatlah branch baru dengan nama depan anda, tambahkan ‘add/’ sebelum nama anda.\n",
    "- Gunakan nama depan\n"
   ]
  },
  {
   "cell_type": "code",
   "execution_count": null,
   "metadata": {},
   "outputs": [],
   "source": [
    "# masuk ke folder yg di clone\n",
    "\n",
    "cd CS-Fundamental-DS"
   ]
  },
  {
   "cell_type": "markdown",
   "metadata": {},
   "source": [
    " Pastikan Anda berada di branch yang ingin Anda jadikan sebagai \"starting point\" untuk branch baru Anda. Misalnya, jika Anda ingin membuat branch baru dari branch master, pastikan Anda berada di master."
   ]
  },
  {
   "cell_type": "code",
   "execution_count": null,
   "metadata": {},
   "outputs": [],
   "source": [
    "git branch"
   ]
  },
  {
   "cell_type": "markdown",
   "metadata": {},
   "source": [
    "membuat branch"
   ]
  },
  {
   "cell_type": "code",
   "execution_count": null,
   "metadata": {},
   "outputs": [],
   "source": [
    "git branch add/agung"
   ]
  },
  {
   "cell_type": "markdown",
   "metadata": {},
   "source": [
    "# Checkout branch baru Anda, kemudian masukkan Push salah satu program python kedalam repository yang telah disiapkan oleh panitia.\n",
    "Gunakan salah satu program dari salah satu case study yang ada di pertemuan pertama ( Misal : Gitlab ).\n",
    "“Push” hasil jawaban ke dalam branch yang telah anda buat\n"
   ]
  },
  {
   "cell_type": "markdown",
   "metadata": {},
   "source": [
    "pindah branch ke add/agung"
   ]
  },
  {
   "cell_type": "code",
   "execution_count": null,
   "metadata": {},
   "outputs": [],
   "source": [
    " git checkout add/agung"
   ]
  },
  {
   "cell_type": "code",
   "execution_count": null,
   "metadata": {},
   "outputs": [],
   "source": [
    "mengerjakaan soal assigment"
   ]
  },
  {
   "cell_type": "markdown",
   "metadata": {},
   "source": [
    "melakukan push"
   ]
  },
  {
   "cell_type": "code",
   "execution_count": null,
   "metadata": {},
   "outputs": [],
   "source": [
    "git add ."
   ]
  },
  {
   "cell_type": "markdown",
   "metadata": {},
   "source": [
    "# Berikan keterangan Commit Message dari perubahan yang Anda lakukan.\n",
    "Contoh : “Soal telah dikerjakan” \n",
    "Jika ada perbaikan soal maka “update soal nomor …”\n"
   ]
  },
  {
   "cell_type": "code",
   "execution_count": null,
   "metadata": {},
   "outputs": [],
   "source": [
    "git commit -m \"soal telah dikerjakan\"\n"
   ]
  },
  {
   "cell_type": "code",
   "execution_count": null,
   "metadata": {},
   "outputs": [],
   "source": [
    "git push origin add/agung"
   ]
  }
 ],
 "metadata": {
  "kernelspec": {
   "display_name": "Python 3",
   "language": "python",
   "name": "python3"
  },
  "language_info": {
   "codemirror_mode": {
    "name": "ipython",
    "version": 3
   },
   "file_extension": ".py",
   "mimetype": "text/x-python",
   "name": "python",
   "nbconvert_exporter": "python",
   "pygments_lexer": "ipython3",
   "version": "3.11.4"
  },
  "orig_nbformat": 4
 },
 "nbformat": 4,
 "nbformat_minor": 2
}
