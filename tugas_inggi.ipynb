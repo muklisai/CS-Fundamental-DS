{
 "cells": [
  {
   "cell_type": "markdown",
   "metadata": {},
   "source": [
    "## Case 1\n",
    "Pada hari raya idul fitri, Pak Ardi ingin memberikan uang ampao kepada keponakannya. Dia memiliki uang Rp $576,000$ yang akan dibagikan ke $9$ keponakannya. Buatlah program python untuk memudahkan Pak Ardi dalam membagi uang ampao agar sama rata kepada keponakannya !"
   ]
  },
  {
   "cell_type": "code",
   "execution_count": 1,
   "metadata": {},
   "outputs": [
    {
     "data": {
      "text/plain": [
       "64000.0"
      ]
     },
     "execution_count": 1,
     "metadata": {},
     "output_type": "execute_result"
    }
   ],
   "source": [
    "uang_ardi = 576000\n",
    "jumlah_ponakan = 9\n",
    "uang_ponakan = uang_ardi/jumlah_ponakan\n",
    "\n",
    "uang_ponakan"
   ]
  },
  {
   "cell_type": "markdown",
   "metadata": {},
   "source": [
    "## Dokumentasi langkah git\n",
    "\n",
    "proses git yang saya kerjakan:\n",
    "\n",
    "1. git clone https://github.com/muklisai/CS-Fundamental-DS.git\n",
    "=> untuk unduh isi yang ada di repo tersebut\n",
    "\n",
    "2. ls\n",
    "=> untuk melihat list file/folder apa saja yg ada di direktori saya saat ini\n",
    "\n",
    "3. cd CS-Fundamental-DS\n",
    "=> untuk masuk ke folder tersebut\n",
    "\n",
    "4. buat file baru di folder tersebut dengan nama tugas_inggi.ipynb\n",
    "\n",
    "5. git status\n",
    "=> untuk mengetahui ada file baru atau file yang isinya berubah yang belum masuk stagging area atau belum di-commit \n",
    "\n",
    "6. git branch\n",
    "=> untuk melihat branch apa saja yg ada, dan branch mana yang aktif\n",
    "\n",
    "7. git branch add/inggi\n",
    "=> membuat branch baru namanya \"add/inggi\"\n",
    "\n",
    "8. git branch\n",
    "=> untuk melihat branch apa saja yang ada, dan branch mana yang aktif\n",
    "\n",
    "9. git checkout add/inggi\n",
    "=> pindah ke branch add/inggi\n",
    "\n",
    "10. git branch\n",
    "=> cek posisi branch yang aktif saat ini\n",
    "\n",
    "11. git status\n",
    "=> untuk mengetahui ada file baru atau file yang isinya berubah yang belum masuk stagging area atau belum di-commit \n",
    "\n",
    "12. git add \"tugas_inggi.ipynb\"\n",
    "=> untuk menyimpan file baru ke stagging area\n",
    "\n",
    "13. git config --global user.name \"ramadhaniinggi\"\n",
    "\n",
    "14. git config --global user.email \"ramadhainggi@gmail.com\"\n",
    "\n",
    "15. git commit -m \"menambahkan file tugas_inggi.ipynb\"\n",
    "\n",
    "16. git push -u origin add/inggi\n",
    "=> error, username belum di-add\n",
    "\n",
    "17. modifikasi isi file tugas_inggi.ipynb dengan menambahkan dokumentasi\n",
    "\n",
    "18. git add .\n",
    "\n",
    "19. git commit -m \"menambahkan dokumentasi di file tugas_inggi.ipynb\"\n",
    "\n",
    "20. git push -u origin add/inggi\n"
   ]
  }
 ],
 "metadata": {
  "kernelspec": {
   "display_name": "Python 3",
   "language": "python",
   "name": "python3"
  },
  "language_info": {
   "codemirror_mode": {
    "name": "ipython",
    "version": 3
   },
   "file_extension": ".py",
   "mimetype": "text/x-python",
   "name": "python",
   "nbconvert_exporter": "python",
   "pygments_lexer": "ipython3",
   "version": "3.11.4"
  },
  "orig_nbformat": 4
 },
 "nbformat": 4,
 "nbformat_minor": 2
}
