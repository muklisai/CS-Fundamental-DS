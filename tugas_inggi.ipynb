{
 "cells": [
  {
   "cell_type": "markdown",
   "metadata": {},
   "source": [
    "## Case 1\n",
    "Pada hari raya idul fitri, Pak Ardi ingin memberikan uang ampao kepada keponakannya. Dia memiliki uang Rp $576,000$ yang akan dibagikan ke $9$ keponakannya. Buatlah program python untuk memudahkan Pak Ardi dalam membagi uang ampao agar sama rata kepada keponakannya !"
   ]
  },
  {
   "cell_type": "code",
   "execution_count": 1,
   "metadata": {},
   "outputs": [
    {
     "data": {
      "text/plain": [
       "64000.0"
      ]
     },
     "execution_count": 1,
     "metadata": {},
     "output_type": "execute_result"
    }
   ],
   "source": [
    "uang_ardi = 576000\n",
    "jumlah_ponakan = 9\n",
    "uang_ponakan = uang_ardi/jumlah_ponakan\n",
    "\n",
    "uang_ponakan"
   ]
  }
 ],
 "metadata": {
  "kernelspec": {
   "display_name": "Python 3",
   "language": "python",
   "name": "python3"
  },
  "language_info": {
   "codemirror_mode": {
    "name": "ipython",
    "version": 3
   },
   "file_extension": ".py",
   "mimetype": "text/x-python",
   "name": "python",
   "nbconvert_exporter": "python",
   "pygments_lexer": "ipython3",
   "version": "3.11.4"
  },
  "orig_nbformat": 4
 },
 "nbformat": 4,
 "nbformat_minor": 2
}
